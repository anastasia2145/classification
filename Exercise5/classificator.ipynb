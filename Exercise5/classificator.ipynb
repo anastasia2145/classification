{
 "cells": [
  {
   "cell_type": "code",
   "execution_count": 1,
   "metadata": {
    "collapsed": true
   },
   "outputs": [],
   "source": [
    "import lxml.html\n",
    "import requests\n",
    "import re\n",
    "import numpy as np"
   ]
  },
  {
   "cell_type": "code",
   "execution_count": 2,
   "metadata": {
    "collapsed": false
   },
   "outputs": [],
   "source": [
    "links = []\n",
    "categories = ['russia', 'world', 'science', 'media', 'business', 'economics', 'sport', 'culture', 'travel']\n",
    "texts = ['' for i in range(0,len(categories))]\n",
    "def get_link (category, year, month, day):\n",
    "    link = 'https://lenta.ru/rubrics/'+ category + '/'\n",
    "    link += str(year) + '/'\n",
    "    if month < 10:\n",
    "        link += '0' + str(month) + '/'\n",
    "    else:\n",
    "        link += str(month) + '/'\n",
    "    if day < 10:\n",
    "        link += '0' + str(day) + '/'\n",
    "    else:\n",
    "        link += str(day) + '/'\n",
    "    return link\n",
    "\n",
    "\n",
    "for category in categories:\n",
    "    for year in range(2015,2017):\n",
    "        for month in range(1,13):\n",
    "            for day in range(1,32):\n",
    "                link = get_link(category, year, month, day)\n",
    "                page = requests.get(link)\n",
    "                tree = lxml.html.fromstring(page.text)\n",
    "                p = tree.xpath('//div[contains(@class, \"g-layout\")]//div[contains(@class, \"titles\")]//a/@href')\n",
    "                links_current = list(map(lambda a: ['https://lenta.ru' + a, category], p))\n",
    "                for link in links_current:\n",
    "                    links.append((link[0], link[1]))\n",
    "                    \n"
   ]
  },
  {
   "cell_type": "code",
   "execution_count": 3,
   "metadata": {
    "collapsed": false
   },
   "outputs": [
    {
     "name": "stdout",
     "output_type": "stream",
     "text": [
      "[(b'https://lenta.ru/news/2015/01/01/putinsspeech/', b'russia')\n",
      " (b'https://lenta.ru/news/2015/01/01/elections/', b'russia')\n",
      " (b'https://lenta.ru/news/2015/01/01/zarplata1/', b'russia') ...,\n",
      " (b'https://lenta.ru/photo/2016/12/04/airports/', b'travel')\n",
      " (b'https://lenta.ru/photo/2016/12/04/airports/', b'travel')\n",
      " (b'https://lenta.ru/photo/2016/12/04/airports/', b'travel')]\n"
     ]
    }
   ],
   "source": [
    "view = [('link', 'S100'), ('category', 'S20')]\n",
    "links = np.array(links, dtype=view)\n",
    "print(links)"
   ]
  },
  {
   "cell_type": "code",
   "execution_count": 4,
   "metadata": {
    "collapsed": false
   },
   "outputs": [],
   "source": [
    "texts = ['' for i in range(0,len(categories))]\n",
    "for i in range(0,len(categories)):\n",
    "    category = categories[i]\n",
    "    category = category.encode('UTF-8')\n",
    "    link_category = links[links['category'] == category]\n",
    "    for link in link_category:\n",
    "        page = requests.get(link[0])\n",
    "        tree = lxml.html.fromstring(page.text)\n",
    "        text = tree.xpath('//div[contains(@class, \"b-text clearfix js-topic__text\")]/p')\n",
    "        texts[i] += ' ' + [' '.join(list((map(lambda a: str(a.text), text))))][0]        "
   ]
  },
  {
   "cell_type": "code",
   "execution_count": 5,
   "metadata": {
    "collapsed": false
   },
   "outputs": [],
   "source": [
    "from sklearn.model_selection import train_test_split\n",
    "from sklearn.svm import LinearSVC\n",
    "from sklearn.feature_extraction.text import CountVectorizer\n",
    "from sklearn.feature_extraction.text import TfidfTransformer\n",
    "from sklearn.naive_bayes import MultinomialNB\n",
    "import pickle"
   ]
  },
  {
   "cell_type": "code",
   "execution_count": 6,
   "metadata": {
    "collapsed": false
   },
   "outputs": [
    {
     "name": "stdout",
     "output_type": "stream",
     "text": [
      "(9, 439745)\n",
      "(9, 439745)\n"
     ]
    }
   ],
   "source": [
    "count_vect = CountVectorizer()\n",
    "X_counts = count_vect.fit_transform(texts)\n",
    "print(X_counts.shape)\n",
    "\n",
    "tfidf_transformer = TfidfTransformer(use_idf=False)\n",
    "X_tfidf = tfidf_transformer.fit_transform(X_counts)\n",
    "print(X_tfidf.shape)"
   ]
  },
  {
   "cell_type": "code",
   "execution_count": 7,
   "metadata": {
    "collapsed": false
   },
   "outputs": [
    {
     "name": "stdout",
     "output_type": "stream",
     "text": [
      "  (0, 386831)\t28\n",
      "  (0, 203537)\t28\n",
      "  (0, 235939)\t28\n",
      "  (0, 185020)\t28\n",
      "  (0, 124205)\t28\n",
      "  (0, 373324)\t28\n",
      "  (0, 108769)\t28\n",
      "  (0, 188458)\t28\n",
      "  (0, 3859)\t56\n",
      "  (0, 83498)\t28\n",
      "  (0, 291520)\t28\n",
      "  (0, 295180)\t28\n",
      "  (0, 56858)\t28\n",
      "  (0, 318584)\t28\n",
      "  (0, 105179)\t28\n",
      "  (0, 34193)\t28\n",
      "  (0, 356426)\t28\n",
      "  (0, 368898)\t28\n",
      "  (0, 184755)\t28\n",
      "  (0, 374620)\t28\n",
      "  (0, 374618)\t28\n",
      "  (0, 161817)\t28\n",
      "  (0, 197655)\t28\n",
      "  (0, 219542)\t28\n",
      "  (0, 195864)\t28\n",
      "  :\t:\n",
      "  (8, 103542)\t1926\n",
      "  (8, 223836)\t2\n",
      "  (8, 416649)\t71\n",
      "  (8, 151062)\t391\n",
      "  (8, 159511)\t70\n",
      "  (8, 378346)\t201\n",
      "  (8, 103441)\t546\n",
      "  (8, 347673)\t233\n",
      "  (8, 423982)\t1160\n",
      "  (8, 384603)\t1560\n",
      "  (8, 120959)\t4041\n",
      "  (8, 389979)\t4\n",
      "  (8, 380285)\t1\n",
      "  (8, 436659)\t12\n",
      "  (8, 337782)\t171\n",
      "  (8, 285738)\t4\n",
      "  (8, 380880)\t1\n",
      "  (8, 405533)\t13\n",
      "  (8, 178992)\t191\n",
      "  (8, 244275)\t13\n",
      "  (8, 238005)\t2\n",
      "  (8, 318536)\t263\n",
      "  (8, 81260)\t261\n",
      "  (8, 337748)\t2407\n",
      "  (8, 300796)\t333\n"
     ]
    }
   ],
   "source": [
    "X_train, X_test, Y_train, Y_test = train_test_split(X_tfidf, categories, test_size=0.25)\n",
    "print(X_counts)"
   ]
  },
  {
   "cell_type": "code",
   "execution_count": 8,
   "metadata": {
    "collapsed": false
   },
   "outputs": [],
   "source": [
    "SVM = LinearSVC(class_weight='balanced')\n",
    "classificator = SVM.fit(X_tfidf, categories)"
   ]
  },
  {
   "cell_type": "code",
   "execution_count": 9,
   "metadata": {
    "collapsed": false
   },
   "outputs": [
    {
     "name": "stdout",
     "output_type": "stream",
     "text": [
      "['Американский рэпер Канье Уэст в понедельник, 21 ноября, был госпитализирован в одну из больниц Лос-Анджелеса (штат Калифорния). Как сообщает портал TMZ, в клинике он должен пройти психиатрическое обследование.          Вызов на пульт дежурного поступил в 13:20 (00:20 по московскому времени). Музыкант в это время находился вне дома. Прибывшие медики доставили Уэста в медицинский центр Рональда Рейгана при университете Калифорнии. По информации источников портала, решение о госпитализации рэпера было принято «ради его здоровья и безопасности».          В правоохранительных органах добавили, что Уэст отказывался ехать в больницу, полицейским пришлось надеть на него наручники.          Уэста госпитализировали спустя несколько часов после того, как он отменил все оставшиеся концерты — 21 выступление — своего тура Saint Pablo. Причину своих действий исполнитель объяснять не стал.          19 ноября на концерте Сакраменто рэпер исполнил только три композиции и покинул сцену. Перед этим артист обрушился с критикой на кандидата в президенты США от демократов Хиллари Клинтон, поддерживавших ее музыкантов Бейонсе и Джей-Зи, а также американское радиовещание и канал MTV. Его тирада заняла около 10 минут.          Канье Уэст — один из популярнейших американских артистов, обладатель 21 награды «Грэмми». В 2016 году он выпустил новый, восьмой альбом The Life Of Pablo.']\n"
     ]
    }
   ],
   "source": [
    "train = [\"Американский рэпер Канье Уэст в понедельник, 21 ноября, был госпитализирован в одну из больниц Лос-Анджелеса (штат Калифорния). Как сообщает портал TMZ, в клинике он должен пройти психиатрическое обследование.\\\n",
    "          Вызов на пульт дежурного поступил в 13:20 (00:20 по московскому времени). Музыкант в это время находился вне дома. Прибывшие медики доставили Уэста в медицинский центр Рональда Рейгана при университете Калифорнии. По информации источников портала, решение о госпитализации рэпера было принято «ради его здоровья и безопасности».\\\n",
    "          В правоохранительных органах добавили, что Уэст отказывался ехать в больницу, полицейским пришлось надеть на него наручники.\\\n",
    "          Уэста госпитализировали спустя несколько часов после того, как он отменил все оставшиеся концерты — 21 выступление — своего тура Saint Pablo. Причину своих действий исполнитель объяснять не стал.\\\n",
    "          19 ноября на концерте Сакраменто рэпер исполнил только три композиции и покинул сцену. Перед этим артист обрушился с критикой на кандидата в президенты США от демократов Хиллари Клинтон, поддерживавших ее музыкантов Бейонсе и Джей-Зи, а также американское радиовещание и канал MTV. Его тирада заняла около 10 минут.\\\n",
    "          Канье Уэст — один из популярнейших американских артистов, обладатель 21 награды «Грэмми». В 2016 году он выпустил новый, восьмой альбом The Life Of Pablo.\"]\n",
    "print(train)"
   ]
  },
  {
   "cell_type": "code",
   "execution_count": 10,
   "metadata": {
    "collapsed": false
   },
   "outputs": [
    {
     "data": {
      "text/plain": [
       "array(['culture'], \n",
       "      dtype='<U9')"
      ]
     },
     "execution_count": 10,
     "metadata": {},
     "output_type": "execute_result"
    }
   ],
   "source": [
    "counts = count_vect.transform(train)\n",
    "t = tfidf_transformer.transform(counts)\n",
    "classificator.predict(t)\n"
   ]
  },
  {
   "cell_type": "code",
   "execution_count": 11,
   "metadata": {
    "collapsed": false
   },
   "outputs": [],
   "source": [
    "import pickle"
   ]
  },
  {
   "cell_type": "code",
   "execution_count": 12,
   "metadata": {
    "collapsed": false
   },
   "outputs": [],
   "source": [
    "with open('clf1.pickle', 'wb') as f:\n",
    "    pickle.dump(classificator, f)\n",
    "\n",
    "with open('count_vect1.pickle', 'wb') as f:\n",
    "    pickle.dump(count_vect, f)\n",
    "    \n",
    "with open('transformer1.pickle', 'wb') as f:\n",
    "    pickle.dump(tfidf_transformer, f)\n",
    "    "
   ]
  },
  {
   "cell_type": "code",
   "execution_count": null,
   "metadata": {
    "collapsed": true
   },
   "outputs": [],
   "source": []
  }
 ],
 "metadata": {
  "kernelspec": {
   "display_name": "Python 3",
   "language": "python",
   "name": "python3"
  },
  "language_info": {
   "codemirror_mode": {
    "name": "ipython",
    "version": 3
   },
   "file_extension": ".py",
   "mimetype": "text/x-python",
   "name": "python",
   "nbconvert_exporter": "python",
   "pygments_lexer": "ipython3",
   "version": "3.5.2"
  }
 },
 "nbformat": 4,
 "nbformat_minor": 0
}
