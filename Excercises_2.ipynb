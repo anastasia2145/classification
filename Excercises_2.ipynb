{
 "cells": [
  {
   "cell_type": "code",
   "execution_count": 4,
   "metadata": {
    "collapsed": false
   },
   "outputs": [],
   "source": [
    "import numpy as np\n",
    "import scipy as sp\n",
    "import matplotlib.pyplot as plt\n",
    "import seaborn as sns\n",
    "\n",
    "%matplotlib inline"
   ]
  },
  {
   "cell_type": "markdown",
   "metadata": {},
   "source": [
    "# 1. Работа с массивами NumPy"
   ]
  },
  {
   "cell_type": "markdown",
   "metadata": {},
   "source": [
    "**N. Все упражнения ниже нужно делать без использования циклов Python**\n",
    "\n",
    "**1.** Cоздать вектор\n",
    "\n",
    "$$(2, \\frac{2^2}{2}, \\ldots, \\frac{2^{20}}{20})$$\n",
    "\n",
    "Можно использовать функции [np.arange()](http://docs.scipy.org/doc/numpy/reference/generated/numpy.arange.html), [np.ones()](http://docs.scipy.org/doc/numpy/reference/generated/numpy.ones.html)"
   ]
  },
  {
   "cell_type": "code",
   "execution_count": 2,
   "metadata": {
    "collapsed": false
   },
   "outputs": [
    {
     "name": "stdout",
     "output_type": "stream",
     "text": [
      "[  2.00000000e+00   2.00000000e+00   2.66666667e+00   4.00000000e+00\n",
      "   6.40000000e+00   1.06666667e+01   1.82857143e+01   3.20000000e+01\n",
      "   5.68888889e+01   1.02400000e+02   1.86181818e+02   3.41333333e+02\n",
      "   6.30153846e+02   1.17028571e+03   2.18453333e+03   4.09600000e+03\n",
      "   7.71011765e+03   1.45635556e+04   2.75941053e+04   5.24288000e+04]\n"
     ]
    }
   ],
   "source": [
    "import numpy as np\n",
    "a = np.ones(20)*2\n",
    "b = np.arange(1, 21, 1)\n",
    "print((a ** b) / b)"
   ]
  },
  {
   "cell_type": "markdown",
   "metadata": {},
   "source": [
    "**2.** Посчитать:\n",
    "\n",
    "$$\\sum\\limits_{i=0}^{5}{0.1^{3i}0.2^{4i}}$$\n"
   ]
  },
  {
   "cell_type": "code",
   "execution_count": 3,
   "metadata": {
    "collapsed": false
   },
   "outputs": [
    {
     "name": "stdout",
     "output_type": "stream",
     "text": [
      "1.0000016\n"
     ]
    }
   ],
   "source": [
    "import numpy as np\n",
    "i = np.arange(6)\n",
    "a = np.ones(6)*0.1\n",
    "b = np.ones(6)*0.2\n",
    "s1 = np.ones(6)*3\n",
    "s2 = np.ones(6)*4\n",
    "print(np.sum((a ** (s1 * i))*(b ** (s2 * i))))"
   ]
  },
  {
   "cell_type": "markdown",
   "metadata": {},
   "source": [
    "**3.** Создать нулевую матрицe $8 \\times 8$, и заполнить её единицами в шахматном порядке."
   ]
  },
  {
   "cell_type": "code",
   "execution_count": 11,
   "metadata": {
    "collapsed": false
   },
   "outputs": [
    {
     "name": "stdout",
     "output_type": "stream",
     "text": [
      "[[ 1.  0.  1.  0.  1.  0.  1.  0.]\n",
      " [ 0.  1.  0.  1.  0.  1.  0.  1.]\n",
      " [ 1.  0.  1.  0.  1.  0.  1.  0.]\n",
      " [ 0.  1.  0.  1.  0.  1.  0.  1.]\n",
      " [ 1.  0.  1.  0.  1.  0.  1.  0.]\n",
      " [ 0.  1.  0.  1.  0.  1.  0.  1.]\n",
      " [ 1.  0.  1.  0.  1.  0.  1.  0.]\n",
      " [ 0.  1.  0.  1.  0.  1.  0.  1.]]\n"
     ]
    }
   ],
   "source": [
    "import numpy as np\n",
    "a = np.zeros((8, 8))\n",
    "a[::2, ::2] = 1\n",
    "a[1::2, 1::2] = 1\n",
    "print(a)"
   ]
  },
  {
   "cell_type": "markdown",
   "metadata": {},
   "source": [
    "**4.** Есть 5 точек в декартовой системе координат (в виде матрицы $X$ размерностью $5 \\times 2$), сконвертируйте эти точки в полярную систему координат."
   ]
  },
  {
   "cell_type": "code",
   "execution_count": 7,
   "metadata": {
    "collapsed": false
   },
   "outputs": [
    {
     "name": "stdout",
     "output_type": "stream",
     "text": [
      "[[ 0.09205797  0.77073226]\n",
      " [ 0.41810745  0.98467124]\n",
      " [ 0.35194712  0.16642906]\n",
      " [ 0.15264509  0.1069681 ]\n",
      " [ 0.97591414  0.55429466]]\n",
      "[[ 0.77621059  1.45191731]\n",
      " [ 1.06976226  1.16925073]\n",
      " [ 0.38931402  0.44171791]\n",
      " [ 0.18639393  0.61123816]\n",
      " [ 1.12234174  0.51653865]]\n"
     ]
    }
   ],
   "source": [
    "import numpy as np\n",
    "X = np.random.random((5, 2))\n",
    "print(X)\n",
    "Y = np.zeros((5, 2), dtype='float64')\n",
    "Y[:, 0] = np.sqrt(((X[:, 0] ** 2) + (X[:, 1] ** 2)))\n",
    "Y[:, 1] = np.arctan((X[:, 1] / X[:, 0]))\n",
    "print(Y)"
   ]
  },
  {
   "cell_type": "markdown",
   "metadata": {},
   "source": [
    "**5.** Найдите индексы максимального элемента в случайной матрице $10 \\times 10$.\n",
    "\n",
    "Cм. [np.argmax()](http://docs.scipy.org/doc/numpy/reference/generated/numpy.argmax.html)."
   ]
  },
  {
   "cell_type": "code",
   "execution_count": 42,
   "metadata": {
    "collapsed": false
   },
   "outputs": [
    {
     "name": "stdout",
     "output_type": "stream",
     "text": [
      "[[ 0.35195429  0.67989925  0.38377185  0.41180926  0.58149829  0.20748749\n",
      "   0.06323383  0.98578916  0.24441979  0.98473455]\n",
      " [ 0.89525996  0.41736291  0.35216902  0.55928727  0.08042927  0.70667031\n",
      "   0.32259378  0.395341    0.59764166  0.37038059]\n",
      " [ 0.10022028  0.51051162  0.91127539  0.83875788  0.32078502  0.31495023\n",
      "   0.09638836  0.16129719  0.34052441  0.01939693]\n",
      " [ 0.34592468  0.63781939  0.84100749  0.71881482  0.29280258  0.95014999\n",
      "   0.66363273  0.56378202  0.5903458   0.09193675]\n",
      " [ 0.98723555  0.57753631  0.74499413  0.25789397  0.03725063  0.95618007\n",
      "   0.90169249  0.55263206  0.66216097  0.46108902]\n",
      " [ 0.88526211  0.03962123  0.42263649  0.80013143  0.76142368  0.72803412\n",
      "   0.19556606  0.63253061  0.67645657  0.19779058]\n",
      " [ 0.7891852   0.98979165  0.62158339  0.41522519  0.94838797  0.08949719\n",
      "   0.1951297   0.3981719   0.52047568  0.5356694 ]\n",
      " [ 0.73322821  0.3502689   0.08367473  0.98593946  0.61317732  0.16711506\n",
      "   0.82471747  0.03241483  0.77941989  0.38151087]\n",
      " [ 0.64951038  0.01518055  0.32277127  0.07445616  0.61442741  0.755629\n",
      "   0.82716329  0.54195958  0.7411033   0.58339415]\n",
      " [ 0.18754379  0.70710136  0.18855558  0.08515869  0.86384487  0.5900524\n",
      "   0.33273166  0.96575458  0.03751929  0.90277241]]\n",
      "61\n",
      "6 1\n"
     ]
    }
   ],
   "source": [
    "X = np.random.random((10, 10))\n",
    "print(X)\n",
    "print(X.argmax())\n",
    "print((X.argmax() // X.shape[1]), (X.argmax() % X.shape[1]))\n"
   ]
  },
  {
   "cell_type": "markdown",
   "metadata": {},
   "source": [
    "**6.** Есть 10 точек ($X$) и ещё одна ($y$). Найти в $X$ ближайшую к $y$ точку."
   ]
  },
  {
   "cell_type": "code",
   "execution_count": 18,
   "metadata": {
    "collapsed": false
   },
   "outputs": [
    {
     "name": "stdout",
     "output_type": "stream",
     "text": [
      "[[ 0.19090311  0.03681683]\n",
      " [ 0.49393164  0.88906476]\n",
      " [ 0.24495315  0.78128728]\n",
      " [ 0.48053267  0.29124592]\n",
      " [ 0.84088746  0.94156133]\n",
      " [ 0.07501839  0.27718209]\n",
      " [ 0.43616081  0.28050843]\n",
      " [ 0.24079457  0.78798911]\n",
      " [ 0.40059711  0.06037366]\n",
      " [ 0.79245192  0.19205588]]\n",
      "[[ 0.35659052  0.22307674]]\n",
      "[ 0.43616081  0.28050843]\n"
     ]
    }
   ],
   "source": [
    "import numpy as np\n",
    "X = np.random.random((10, 2))\n",
    "y = np.random.random((1, 2))\n",
    "\n",
    "print(X)\n",
    "print(y)\n",
    "print(X[np.argmin(np.sqrt(((X[:, 0] - y[0][0]) ** 2) + ((X[:, 1] - y[0][1]) ** 2)))])"
   ]
  },
  {
   "cell_type": "markdown",
   "metadata": {},
   "source": [
    "**7.** Дана функция:\n",
    "\n",
    "$$\n",
    " \\begin{cases}\n",
    "    x^2 + 2x + 6, & x < 0  \\\\\n",
    "    x + 6, & 0 \\le x \\le 2 \\\\\n",
    "    x^2 + 4x - 4, & x \\ge 2\n",
    " \\end{cases}\n",
    "$$\n",
    "\n",
    "Постройте массив из её значений на  $-3 \\le x \\le 3$."
   ]
  },
  {
   "cell_type": "code",
   "execution_count": 13,
   "metadata": {
    "collapsed": false
   },
   "outputs": [
    {
     "name": "stdout",
     "output_type": "stream",
     "text": [
      "[-3 -2 -1  0  1  2  3]\n",
      "[ 9  6  5  6  7  8 17]\n"
     ]
    }
   ],
   "source": [
    "import numpy as np\n",
    "@np.vectorize\n",
    "def foo(x):\n",
    "    if x < 0:\n",
    "        return (x ** 2) + 2*x + 6\n",
    "    elif ((x >= 0) and (x <= 2)):\n",
    "        return x+6\n",
    "    else:\n",
    "        return (x ** 2) + 4*x - 4\n",
    "a = np.arange(-3, 4, 1)\n",
    "print(a)\n",
    "print(foo(a))"
   ]
  },
  {
   "cell_type": "markdown",
   "metadata": {},
   "source": [
    "**8.** Из каждого элемента матрицы вычесть среднее арифметическое от всех элементов в соответствующей строке (после чего среднее значение каждой строки должно равняться нулю).\n",
    "\n",
    "Cм. [np.mean()](http://docs.scipy.org/doc/numpy/reference/generated/numpy.mean.html)."
   ]
  },
  {
   "cell_type": "code",
   "execution_count": 41,
   "metadata": {
    "collapsed": false
   },
   "outputs": [
    {
     "name": "stdout",
     "output_type": "stream",
     "text": [
      "[[-0.42616909  0.2251115  -0.1845864   0.37621825 -0.1035115  -0.06359585\n",
      "   0.36842033  0.02668062 -0.05022529 -0.16834257]\n",
      " [ 0.33845857 -0.10675786  0.051723    0.17597544  0.02826584  0.24181411\n",
      "   0.03386131 -0.2012066  -0.15229519 -0.40983863]\n",
      " [-0.28481876 -0.17908692  0.18988147  0.26915863  0.21747187 -0.30353024\n",
      "   0.31664461  0.07199237 -0.36336049  0.06564746]\n",
      " [ 0.44549495 -0.34395054  0.33978307 -0.42955151 -0.43843401 -0.3997912\n",
      "   0.21004617 -0.18498253  0.54802009  0.2533655 ]\n",
      " [ 0.27688497 -0.31194682  0.0142088   0.20261146 -0.14662782  0.29983168\n",
      "  -0.30629848  0.1215549   0.18794018 -0.33815887]\n",
      " [-0.31344918 -0.38798808  0.31280161  0.5217486  -0.11798127  0.04213638\n",
      "  -0.19520599 -0.06532539  0.25385926 -0.05059594]\n",
      " [-0.23087804 -0.18486017  0.0429948  -0.23768115 -0.15143391 -0.10975929\n",
      "   0.46107178  0.21674091 -0.00943586  0.20324093]\n",
      " [ 0.39140117 -0.24041429  0.1488197  -0.13486151 -0.18712878 -0.11542691\n",
      "  -0.18803061  0.00865621  0.30227605  0.01470897]\n",
      " [ 0.41408619 -0.38511603 -0.31676918 -0.13426779 -0.08369783 -0.3887637\n",
      "   0.22370229 -0.32674943  0.52572721  0.47184827]\n",
      " [ 0.008602    0.29317232 -0.108544    0.22305929 -0.01093386 -0.30394988\n",
      "   0.11170772  0.26491584  0.12680308 -0.60483251]]\n",
      "[ -4.44089210e-17  -2.22044605e-17  -5.55111512e-17  -3.33066907e-17\n",
      "   2.22044605e-17  -4.44089210e-17   0.00000000e+00   1.11022302e-17\n",
      "  -4.99600361e-17   7.77156117e-17]\n"
     ]
    }
   ],
   "source": [
    "X = np.random.random((10, 10))\n",
    "print(X-np.reshape(np.mean(X, axis=1), (np.mean(X, axis=1).size, 1)))\n",
    "print(np.mean(X-np.reshape(np.mean(X, axis=1), (np.mean(X, axis=1).size, 1)), axis=1))"
   ]
  },
  {
   "cell_type": "markdown",
   "metadata": {},
   "source": [
    "**9.** Есть массив из 1000 чисел, полученных из генератора случайных чисел, имеющий нормальное распределение. Посчитайте выборочное среднее и выборочную дисперсию. "
   ]
  },
  {
   "cell_type": "code",
   "execution_count": 43,
   "metadata": {
    "collapsed": false
   },
   "outputs": [
    {
     "name": "stdout",
     "output_type": "stream",
     "text": [
      "5.0028958475\n",
      "3.94321471674\n"
     ]
    }
   ],
   "source": [
    "X = np.random.normal(loc=5, scale=2., size=1000)\n",
    "#print(X)\n",
    "import numpy as np\n",
    "m = np.sum(X) / X.size\n",
    "print(m)\n",
    "s = np.sum((X-m) ** 2) / X.size\n",
    "print(s)\n",
    "\n"
   ]
  },
  {
   "cell_type": "markdown",
   "metadata": {},
   "source": [
    "**10.** Создать матрицу:\n",
    "\n",
    "$$\n",
    "\\begin{pmatrix}\n",
    "0 & 1 & 2 & 3 & 4 \\\\\n",
    "1 & 2 & 3 & 4 & 0 \\\\\n",
    "2 & 3 & 4 & 0 & 1 \\\\\n",
    "3 & 4 & 0 & 1 & 2 \\\\\n",
    "4 & 0 & 1 & 2 & 3\n",
    "\\end{pmatrix}\n",
    "$$"
   ]
  },
  {
   "cell_type": "code",
   "execution_count": 40,
   "metadata": {
    "collapsed": false
   },
   "outputs": [
    {
     "name": "stdout",
     "output_type": "stream",
     "text": [
      "[[0 1 2 3 4]\n",
      " [1 2 3 4 0]\n",
      " [2 3 4 0 1]\n",
      " [3 4 0 1 2]\n",
      " [4 0 1 2 3]]\n"
     ]
    }
   ],
   "source": [
    "def f(i, j):\n",
    "    return (i + j) % 5 \n",
    "b = np.fromfunction(f,(5,5),dtype=int)\n",
    "print(b)"
   ]
  },
  {
   "cell_type": "code",
   "execution_count": null,
   "metadata": {
    "collapsed": true
   },
   "outputs": [],
   "source": []
  }
 ],
 "metadata": {
  "kernelspec": {
   "display_name": "Python 3",
   "language": "python",
   "name": "python3"
  },
  "language_info": {
   "codemirror_mode": {
    "name": "ipython",
    "version": 3
   },
   "file_extension": ".py",
   "mimetype": "text/x-python",
   "name": "python",
   "nbconvert_exporter": "python",
   "pygments_lexer": "ipython3",
   "version": "3.5.1"
  }
 },
 "nbformat": 4,
 "nbformat_minor": 0
}
