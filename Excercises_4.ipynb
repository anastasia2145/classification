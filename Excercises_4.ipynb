{
 "cells": [
  {
   "cell_type": "markdown",
   "metadata": {},
   "source": [
    "# Загрузка базы вопросов ЧГК\n",
    "\n",
    "Нужно загрузить все доступные вопросы и ответы к ним с базы http:///db.chgk.info . Результаты необходимо сохранить в каком-либо формате в форме вопрос-ответ (pickle, sqlite, текстовый файл и т.д.). "
   ]
  },
  {
   "cell_type": "code",
   "execution_count": 1,
   "metadata": {
    "collapsed": true
   },
   "outputs": [],
   "source": [
    "import lxml.html\n",
    "import requests\n",
    "import re"
   ]
  },
  {
   "cell_type": "code",
   "execution_count": 2,
   "metadata": {
    "collapsed": false
   },
   "outputs": [],
   "source": [
    "page = requests.get('http://db.chgk.info/')\n",
    "tree_page = lxml.html.fromstring(page.text)"
   ]
  },
  {
   "cell_type": "code",
   "execution_count": 3,
   "metadata": {
    "collapsed": false
   },
   "outputs": [
    {
     "data": {
      "text/plain": [
       "['База вопросов \"Что? Где? Когда?\".']"
      ]
     },
     "execution_count": 3,
     "metadata": {},
     "output_type": "execute_result"
    }
   ],
   "source": [
    "tree_page.xpath('//title/text()')"
   ]
  },
  {
   "cell_type": "code",
   "execution_count": 4,
   "metadata": {
    "collapsed": false
   },
   "outputs": [],
   "source": [
    "pattern = re.compile(r'\\d+')\n",
    "number_of_pages = pattern.findall(tree_page.xpath('//li[contains(@class, \"pager-last last\")]/a/@href')[0])[0]"
   ]
  },
  {
   "cell_type": "code",
   "execution_count": 5,
   "metadata": {
    "collapsed": false
   },
   "outputs": [],
   "source": [
    "links = []\n",
    "for i in range(int(number_of_pages)):\n",
    "    response = requests.get('http://db.chgk.info/last?page=' + str(i))\n",
    "    tree = lxml.html.fromstring(response.text)\n",
    "    p = tree.xpath('//table[contains(@class, \"last_packages\")]//td[2]/a/@href')\n",
    "    links.extend(list(map(lambda a: 'http://db.chgk.info/' + a, p)))"
   ]
  },
  {
   "cell_type": "code",
   "execution_count": 6,
   "metadata": {
    "collapsed": false
   },
   "outputs": [],
   "source": [
    "with open('links.txt', 'w') as f:\n",
    "    f.write('\\n'.join(links))"
   ]
  },
  {
   "cell_type": "code",
   "execution_count": 7,
   "metadata": {
    "collapsed": false
   },
   "outputs": [],
   "source": [
    "def function(question):\n",
    "    elements = question.xpath('.//p/strong')[:2]\n",
    "    return 'Q: {}\\nA: {}\\n'.format(*map(lambda a: a.tail.strip(), elements))\n"
   ]
  },
  {
   "cell_type": "code",
   "execution_count": 8,
   "metadata": {
    "collapsed": false
   },
   "outputs": [],
   "source": [
    "i=0\n",
    "chgk_base = []    \n",
    "with open('links.txt', 'r') as file:\n",
    "    for line in file:\n",
    "        i += 1\n",
    "        if i == 10:\n",
    "            break\n",
    "        response = requests.get(line.strip())\n",
    "        tree = lxml.html.fromstring(response.text)\n",
    "        p = tree.xpath('//div[@class = \"question\"]')\n",
    "        chgk_base.extend(list(map(function, p)))\n",
    "    \n",
    "with open('chgk.txt', 'w', encoding='utf-8') as f:\n",
    "    f.write('\\n'.join(chgk_base))\n",
    " \n",
    "    "
   ]
  },
  {
   "cell_type": "code",
   "execution_count": null,
   "metadata": {
    "collapsed": true
   },
   "outputs": [],
   "source": []
  }
 ],
 "metadata": {
  "kernelspec": {
   "display_name": "Python 3",
   "language": "python",
   "name": "python3"
  },
  "language_info": {
   "codemirror_mode": {
    "name": "ipython",
    "version": 3
   },
   "file_extension": ".py",
   "mimetype": "text/x-python",
   "name": "python",
   "nbconvert_exporter": "python",
   "pygments_lexer": "ipython3",
   "version": "3.5.1"
  }
 },
 "nbformat": 4,
 "nbformat_minor": 1
}
