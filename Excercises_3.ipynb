{
 "cells": [
  {
   "cell_type": "markdown",
   "metadata": {
    "collapsed": true
   },
   "source": [
    "# Данные \n",
    "В некотором *городе N* на каждом автобусе/троллейбусе/трамвае установлены GPS трекеры, которые с некоторым промежутком времени передают информацию о своем местоположении на специальный сервер. \n",
    "\n",
    "Данные для всех транспортных средства одного маршрута непрерывно записывались на протяжении недели, потом GPS координаты (широта и долгота) были спроецированы на плоскость с использованием [проекции Меркатора](https://ru.wikipedia.org/wiki/%D0%9F%D1%80%D0%BE%D0%B5%D0%BA%D1%86%D0%B8%D1%8F_%D0%9C%D0%B5%D1%80%D0%BA%D0%B0%D1%82%D0%BE%D1%80%D0%B0) и некоторого линейного преобразования. Эти данные записаны в файле **../data/transport_log.zip** в виде:\n",
    "\n",
    ">    **1447037729**&nbsp;&nbsp;&lt;tab&gt;&nbsp;&nbsp;**3054.619968**&nbsp;&nbsp;&lt;tab&gt;&nbsp;&nbsp;**2409.828279**&nbsp;&nbsp;&lt;tab&gt;&nbsp;&nbsp;**570d8**\n",
    "\n",
    "поля разделены табуляцией. Здесь:\n",
    "- **1447037729** - [UNIX-время](https://ru.wikipedia.org/wiki/UNIX-%D0%B2%D1%80%D0%B5%D0%BC%D1%8F), которое без труда можно преобразовать во что-то разумное с помощью стандартной библиотеки [Python](https://docs.python.org/2/library/datetime.html#datetime.date.fromtimestamp).\n",
    "- **3054.619968** - координата \"x\"\n",
    "- **2409.828279** - координата \"y\"\n",
    "- **570d8** - уникальный идентификатор транспортного средства, от которого получен сигнал. \n",
    "\n",
    "Маршрут автобосов \"туда\" не совпадает с маршрутом \"обратно\". Известно, что в направлении, которое мы назовем \"туда\"  первая остановка имеет координаты:\n",
    "\n",
    ">   **(11038.08464497, 8253.17542416)**\n",
    "\n",
    "последняя:\n",
    "\n",
    ">   **(283.08479678,  163.45489494)**\n"
   ]
  },
  {
   "cell_type": "markdown",
   "metadata": {},
   "source": [
    "# Задачи"
   ]
  },
  {
   "cell_type": "markdown",
   "metadata": {},
   "source": [
    "- Отобразить все точки на плоскости"
   ]
  },
  {
   "cell_type": "code",
   "execution_count": 1,
   "metadata": {
    "collapsed": false,
    "scrolled": true
   },
   "outputs": [
    {
     "name": "stdout",
     "output_type": "stream",
     "text": [
      "         time             x            y number\n",
      "0  1447037752  10790.502576  7289.575506  80c48\n",
      "1  1447037729   3054.619968  2409.828279  570d8\n",
      "2  1447037635   1220.080874   575.826726  279c4\n",
      "3  1447037741   6918.183471  4969.208485  f9cf0\n",
      "4  1447037373  11409.219599  8320.040473  fd845\n"
     ]
    },
    {
     "data": {
      "image/png": "[encoded data removed]",
      "text/plain": [
       "<matplotlib.figure.Figure at 0x6cfbba6d8>"
      ]
     },
     "metadata": {},
     "output_type": "display_data"
    }
   ],
   "source": [
    "import zipfile \n",
    "import pandas as pd\n",
    "import matplotlib.pyplot as plt\n",
    "\n",
    "%matplotlib inline\n",
    "\n",
    "u_cols = ['time', 'x', 'y', 'number']\n",
    "\n",
    "with zipfile.ZipFile('../data/transport_log.zip', 'r') as zf:\n",
    "    with zf.open('transport_log.txt', 'r') as f:\n",
    "        df = pd.read_csv(f, sep = '\\t', names = u_cols)\n",
    "\n",
    "print(df.head())\n",
    "plt.scatter(df[[1]], df[[2]])\n",
    "plt.show()"
   ]
  },
  {
   "cell_type": "markdown",
   "metadata": {},
   "source": [
    "- Отобразить в bar plot зависимость числа точек от часа (0-23). По оси \"X\" столбцы с метками 0-23, по оси \"Y\" - число соответствующих точек в логе."
   ]
  },
  {
   "cell_type": "code",
   "execution_count": 2,
   "metadata": {
    "collapsed": false
   },
   "outputs": [
    {
     "data": {
      "image/png": "[encoded data removed]",
      "text/plain": [
       "<matplotlib.figure.Figure at 0x6cfcad0b8>"
      ]
     },
     "metadata": {},
     "output_type": "display_data"
    }
   ],
   "source": [
    "import numpy as np\n",
    "import time\n",
    "\n",
    "x = np.arange(0, 24)\n",
    "y = np.zeros(24)\n",
    "\n",
    "for i in range(len(df[[0]].values)):\n",
    "    y[time.localtime(df[[0]].values[i])[3]] = y[time.localtime(df[[0]].values[i])[3]] + 1\n",
    "    \n",
    "plt.bar(x,y)\n",
    "plt.show()"
   ]
  },
  {
   "cell_type": "markdown",
   "metadata": {},
   "source": [
    "- Выделить из лога подпоследовательности, соответствующие гарантировано полным маршрутам в направлении \"туда\". То есть автобус должен пройти первую остановку с обозначенными выше координатами, затем последнюю."
   ]
  },
  {
   "cell_type": "code",
   "execution_count": 3,
   "metadata": {
    "collapsed": true
   },
   "outputs": [],
   "source": [
    "import datetime"
   ]
  },
  {
   "cell_type": "code",
   "execution_count": 4,
   "metadata": {
    "collapsed": false
   },
   "outputs": [
    {
     "name": "stdout",
     "output_type": "stream",
     "text": [
      "14566\n"
     ]
    },
    {
     "name": "stderr",
     "output_type": "stream",
     "text": [
      "C:\\Users\\Anastasia\\Anaconda3\\lib\\site-packages\\ipykernel\\__main__.py:51: FutureWarning: elementwise == comparison failed and returning scalar instead; this will raise an error or perform elementwise comparison in the future.\n"
     ]
    }
   ],
   "source": [
    "df = df.sort_values(by=['number', 'time'])\n",
    "start = [11038.08464497, 8253.17542416]\n",
    "finish = [283.08479678, 163.45489494]\n",
    "\n",
    "data = df.as_matrix()\n",
    "\n",
    "eps = 50\n",
    "dist = lambda c, d: np.sqrt((c[0] - d[0]) ** 2 + (c[1] - d[1]) ** 2)\n",
    "first_like = lambda x: dist(x, start) < eps\n",
    "last_like = lambda x: dist(x, finish) < eps\n",
    "\n",
    "sequences = []\n",
    "temp = []\n",
    "view = [('time', 'object'), ('x', float), ('y', float), ('id', 'S5')]\n",
    "for i in range(len(data)):\n",
    "    temp.append((datetime.datetime.fromtimestamp(int(data[i][0])), float(data[i][1]), float(data[i][2]), data[i][3]))\n",
    "\n",
    "data2 = np.array(temp, dtype=view)\n",
    "numbers = list(set(data2['id']))\n",
    "sequence = []\n",
    "full = False\n",
    "add = False\n",
    "view = [('time', 'object'), ('x', float), ('y', float), ('id', 'S5'), ('speed', float)]\n",
    "for number in numbers:\n",
    "    number_data = data2[data2['id'] == number]\n",
    "    number_count = number_data.shape[0]\n",
    "    np.sort(number_data, order='time')\n",
    "    for i in range(number_count):\n",
    "        current = number_data[i]\n",
    "        previous = number_data[i-1]\n",
    "        if first_like([previous[1], previous[2]]):\n",
    "            full = True\n",
    "        if full:\n",
    "            time = (number_data[i]['time']-number_data[i-1]['time']).total_seconds()\n",
    "            if (0 < time < 300):\n",
    "                speed = dist([number_data[i]['x'], number_data[i]['y']],\\\n",
    "                             [number_data[i-1]['x'], number_data[i-1]['y']]) / time\n",
    "            else:\n",
    "                full = False\n",
    "                sequence = []\n",
    "                continue\n",
    "            if last_like([current[1], current[2]]):\n",
    "                add = True\n",
    "\n",
    "            current = list(current)\n",
    "            current.append(speed)\n",
    "            sequence.append(tuple(current))\n",
    "            if add:\n",
    "                add = False\n",
    "                full = False\n",
    "                sequence = np.array(sequence, dtype=view)\n",
    "                if sequences == []:\n",
    "                    sequences = sequence\n",
    "                    sequence = []\n",
    "                else:\n",
    "                    sequences = np.concatenate((sequences, sequence))\n",
    "                    sequence = []\n",
    "\n",
    "\n",
    "#print(sequences)\n",
    "seq_elements_number=sequences.shape[0]\n",
    "print(seq_elements_number)\n",
    "\n"
   ]
  },
  {
   "cell_type": "markdown",
   "metadata": {},
   "source": [
    "- По данным из предыдущего пункта построить приближенный маршрут в виде кусочно-линейно функции, причем линейные компоненты должны иметь одинаковую длину. Отобразить таким образом, чтобы каждый участок имел цвет в зависимости от средней скорости прохождения участка. "
   ]
  },
  {
   "cell_type": "code",
   "execution_count": 5,
   "metadata": {
    "collapsed": true
   },
   "outputs": [],
   "source": [
    "from sklearn.linear_model import LinearRegression\n",
    "from sklearn.cluster import KMeans"
   ]
  },
  {
   "cell_type": "code",
   "execution_count": 6,
   "metadata": {
    "collapsed": false
   },
   "outputs": [
    {
     "data": {
      "image/png": "[encoded data removed]",
      "text/plain": [
       "<matplotlib.figure.Figure at 0x6d370b1d0>"
      ]
     },
     "metadata": {},
     "output_type": "display_data"
    }
   ],
   "source": [
    "linear_components = []\n",
    "\n",
    "average_speed_min = 50\n",
    "average_speed_max = -50\n",
    "coordinates = np.zeros((seq_elements_number, 2))\n",
    "coordinates[:, 0] = sequences['x']\n",
    "coordinates[:, 1] = sequences['y']\n",
    "\n",
    "number_of_clusters = 100\n",
    "K_Means = KMeans(n_clusters=number_of_clusters)\n",
    "\n",
    "clusters = K_Means.fit_predict(coordinates)\n",
    "\n",
    "for cluster in range(0, number_of_clusters-1):\n",
    "    cluster_data = sequences[clusters == cluster]\n",
    "    x = cluster_data['x'].reshape(-1, 1)\n",
    "    y = cluster_data['y']\n",
    "\n",
    "    average_speed = np.mean(cluster_data['speed'])\n",
    "    if average_speed > average_speed_max:\n",
    "        average_speed_max = average_speed\n",
    "    if average_speed < average_speed_min:\n",
    "        average_speed_min = average_speed\n",
    "\n",
    "    Linear_Regression = LinearRegression()\n",
    "    Linear_Regression.fit(x, y)\n",
    "    y = Linear_Regression.predict(x)\n",
    "    linear_components.append((x, y, average_speed))\n",
    "\n",
    "for x, y, speed in linear_components:\n",
    "    speed = 1-((speed - average_speed_min) / (average_speed_max - average_speed_min))\n",
    "    plt.plot(x, y, color=str(speed), linewidth=1)\n",
    "plt.show()"
   ]
  },
  {
   "cell_type": "code",
   "execution_count": null,
   "metadata": {
    "collapsed": true
   },
   "outputs": [],
   "source": []
  }
 ],
 "metadata": {
  "kernelspec": {
   "display_name": "Python 3",
   "language": "python",
   "name": "python3"
  },
  "language_info": {
   "codemirror_mode": {
    "name": "ipython",
    "version": 3
   },
   "file_extension": ".py",
   "mimetype": "text/x-python",
   "name": "python",
   "nbconvert_exporter": "python",
   "pygments_lexer": "ipython3",
   "version": "3.5.1"
  }
 },
 "nbformat": 4,
 "nbformat_minor": 0
}
