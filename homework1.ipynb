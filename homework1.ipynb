{
 "cells": [
  {
   "cell_type": "code",
   "execution_count": null,
   "metadata": {
    "collapsed": true
   },
   "outputs": [],
   "source": [
    "task1"
   ]
  },
  {
   "cell_type": "code",
   "execution_count": 1,
   "metadata": {
    "collapsed": false
   },
   "outputs": [
    {
     "name": "stdout",
     "output_type": "stream",
     "text": [
      "0.16666666666666666\n",
      "1.5\n"
     ]
    }
   ],
   "source": [
    "def foldl(f, x0, lst):\n",
    "    if not lst:\n",
    "        return x0\n",
    "    return foldl(f, f(x0, lst[0]), lst[1:])\n",
    "\n",
    "def foldr(f, x0, lst):\n",
    "    if not lst:\n",
    "        return x0\n",
    "    return f(lst[0], foldr(f, x0, lst[1:]))\n",
    "\n",
    "def foldl2(f, x0, lst):\n",
    "    return foldr(lambda x, g: lambda a: g(f(a, x)), lambda x: x, lst)(x0)\n",
    "\n",
    "print(foldl2(lambda x, y: x / y, 1.0, [1, 2, 3]))\n",
    "\n",
    "def foldr2(f, x0, lst):\n",
    "    return foldl(lambda g, x: lambda a: g(f(x, a)), lambda x: x, lst)(x0)\n",
    "\n",
    "print(foldr2(lambda x, y: x / y, 1.0, [1, 2, 3]))\n"
   ]
  },
  {
   "cell_type": "code",
   "execution_count": null,
   "metadata": {
    "collapsed": true
   },
   "outputs": [],
   "source": [
    "task2"
   ]
  },
  {
   "cell_type": "code",
   "execution_count": 2,
   "metadata": {
    "collapsed": false
   },
   "outputs": [
    {
     "name": "stdout",
     "output_type": "stream",
     "text": [
      "True\n"
     ]
    }
   ],
   "source": [
    "def check_inv(a, b):\n",
    "    if (len(a) < len(b)) or (len(a) == 0) or (len(b) == 0):\n",
    "        return False\n",
    "\n",
    "    dict1 = {}\n",
    "    check = True\n",
    "    for i in b:\n",
    "        if i not in dict1:\n",
    "            dict1[i] = 1\n",
    "        else:\n",
    "            dict1[i] = dict1.get(i)+1\n",
    "    str = a[:len(b)]\n",
    "    small_dict = {}\n",
    "    for i in str:\n",
    "        if i not in small_dict:\n",
    "            small_dict[i] = 1\n",
    "        else:\n",
    "            small_dict[i] = small_dict.get(i)+1\n",
    "    for i in dict1:\n",
    "        if (i in small_dict)and(dict1.get(i) == small_dict.get(i)):\n",
    "            continue\n",
    "        else:\n",
    "            check = False\n",
    "            break\n",
    "    if check == True:\n",
    "        return check\n",
    "\n",
    "\n",
    "\n",
    "    for i in range(1, len(a)-len(b)+1, 1):\n",
    "        check = True\n",
    "        str = a[i:i+len(b)]\n",
    "        #print(str)\n",
    "        if a[i-1] not in str:\n",
    "            small_dict[a[i-1]] = small_dict.get(a[i-1])-1\n",
    "        q = i+len(b)\n",
    "        if a[i+len(b)-1] not in small_dict:\n",
    "                small_dict[a[i+len(b)-1]] = 1\n",
    "        else:\n",
    "            small_dict[a[i+len(b)-1]] = small_dict.get(a[i+len(b)-1])+1\n",
    "\n",
    "        for j in dict1:\n",
    "            if (j in small_dict)and(dict1.get(j) == small_dict.get(j)):\n",
    "                continue\n",
    "            else:\n",
    "                check = False\n",
    "                break\n",
    "\n",
    "        if check == True:\n",
    "            return check\n",
    "    return check\n",
    "\n",
    "\n",
    "print(check_inv('abcrotm', 'tro'))"
   ]
  },
  {
   "cell_type": "code",
   "execution_count": null,
   "metadata": {
    "collapsed": true
   },
   "outputs": [],
   "source": [
    "task3"
   ]
  },
  {
   "cell_type": "code",
   "execution_count": 3,
   "metadata": {
    "collapsed": false
   },
   "outputs": [
    {
     "name": "stdout",
     "output_type": "stream",
     "text": [
      "3\n",
      "4\n",
      "2\n",
      "0 1 3 4 2 \n",
      "Tree(0, Tree(1, Tree(3), Tree(4)), Tree(2))\n"
     ]
    }
   ],
   "source": [
    "class Tree:\n",
    "    def __init__(self, value=None, left=None, right=None):\n",
    "        self.left = left\n",
    "        self.right = right\n",
    "        self.value = value\n",
    "\n",
    "    def __iter__(self):\n",
    "        stack = []\n",
    "        stack.append(self)\n",
    "        while len(stack) > 0:\n",
    "            curr = stack.pop()\n",
    "            if not curr.right and not curr.left:\n",
    "                yield curr.value\n",
    "            if curr.right:\n",
    "                stack.append(curr.right)\n",
    "            if curr.left:\n",
    "                stack.append(curr.left)\n",
    "\n",
    "    def __str__(self):\n",
    "        stack = []\n",
    "        string = ''\n",
    "        stack.append(self)\n",
    "        while len(stack) > 0:\n",
    "            curr = stack.pop()\n",
    "            string += str(curr.value) + ' '\n",
    "            if curr.right:\n",
    "                stack.append(curr.right)\n",
    "            if curr.left:\n",
    "                stack.append(curr.left)\n",
    "        return string\n",
    "\n",
    "    def __repr__(self):\n",
    "        def traverse(x):\n",
    "            string = 'Tree(' + str(x.value)\n",
    "            if x.left:\n",
    "                string += ', ' + traverse(x.left)\n",
    "            if x.right:\n",
    "                string += ', ' + traverse(x.right) + ')'\n",
    "            if not x.left and not x.right:\n",
    "                string += ')'\n",
    "            return string\n",
    "        return traverse(self)\n",
    "\n",
    "\n",
    "tree = Tree(0, Tree(1, Tree(3), Tree(4)), Tree(2))\n",
    "list(tree) == [3, 4, 2]\n",
    "for i, num in enumerate(tree):\n",
    "    print(num)\n",
    "print(str(tree))\n",
    "print(repr(tree))\n"
   ]
  },
  {
   "cell_type": "code",
   "execution_count": null,
   "metadata": {
    "collapsed": true
   },
   "outputs": [],
   "source": []
  }
 ],
 "metadata": {
  "kernelspec": {
   "display_name": "Python 3",
   "language": "python",
   "name": "python3"
  },
  "language_info": {
   "codemirror_mode": {
    "name": "ipython",
    "version": 3
   },
   "file_extension": ".py",
   "mimetype": "text/x-python",
   "name": "python",
   "nbconvert_exporter": "python",
   "pygments_lexer": "ipython3",
   "version": "3.5.1"
  }
 },
 "nbformat": 4,
 "nbformat_minor": 0
}
